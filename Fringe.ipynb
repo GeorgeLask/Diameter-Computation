{
 "cells": [
  {
   "cell_type": "code",
   "execution_count": 1,
   "id": "def4983a",
   "metadata": {},
   "outputs": [],
   "source": [
    "from tqdm import tqdm\n",
    "import random\n",
    "import numpy as np\n",
    "import networkx as nx\n",
    "import matplotlib.pyplot as plt"
   ]
  },
  {
   "cell_type": "code",
   "execution_count": 5,
   "id": "0e35f801-a1d5-4544-adbf-edfaec41cff8",
   "metadata": {},
   "outputs": [],
   "source": [
    "def diameter_computation(G,d):\n",
    "    #Check for giant connected component\n",
    "    giant = G\n",
    "    if not nx.is_connected(G):\n",
    "        Gcc   = sorted(nx.connected_components(G), key=len, reverse=True)\n",
    "        giant = G.subgraph(Gcc[0])\n",
    "    \n",
    "    # finding the best L(double_sweep) and U(fringe)\n",
    "    f_bfs  = 0\n",
    "    S_U = 0\n",
    "    S_L = 0\n",
    "    L = 0\n",
    "    U = len(giant.nodes())\n",
    "    \n",
    "    for i in tqdm(range(d)):\n",
    "        l,r = double_sweep(giant)\n",
    "        S_L += 2\n",
    "        if l>L:\n",
    "            L = l\n",
    "        u,B = fringe(giant,r,U)\n",
    "        S_U += B\n",
    "        if u<U:\n",
    "            U=u\n",
    "    S_L /= d\n",
    "    S_U /= d\n",
    "    \n",
    "     # Diameter calculation\n",
    "    if U == L:\n",
    "        print('Fringe converged')\n",
    "        print('The diameter is: ', L)\n",
    "        print('Number of BFSes needed:',S_L*d,'from double sweep, and',S_U*d,'from fringe')\n",
    "        print('The total number of BFSes required for double sweep devided with the number of iterations is:',S_L)\n",
    "        print('The total number of BFSes required for fringe devided with the number of iterations is:',S_U)\n",
    "    else:\n",
    "        print('Fringe did not converged')\n",
    "        print('The diameter is between L = ',L, 'and U = ',U)\n",
    "        print('The approximated diameter is: ', L)\n",
    "        print('Number of BFSes needed:',S_L*d,'from double sweep, and',SU*d,'from fringe')\n",
    "        print('The total number of BFSes required for double sweep devided with the number of iterations is:',S_L)\n",
    "        print('The total number of BFSes required for fringe devided with the number of iterations is:',S_U)\n",
    "    return"
   ]
  },
  {
   "cell_type": "code",
   "execution_count": 6,
   "id": "d5db4353-0d11-49a1-8045-96fd5ed60248",
   "metadata": {},
   "outputs": [],
   "source": [
    "def double_sweep(giant):\n",
    "    \n",
    "    #random node from nodes in giant component\n",
    "    u = random.choice(list(giant.nodes))\n",
    "    ecc_u = nx.eccentricity(giant,u)\n",
    "    a = list(nx.descendants_at_distance(giant,u,ecc_u))[0]\n",
    "    ecc_a = nx.eccentricity(giant,a)\n",
    "    \n",
    "    L = ecc_a\n",
    "\n",
    "    # r is the node in the middle of path a-b.\n",
    "    l = round(ecc_a/2)\n",
    "\n",
    "    # is r really the middle of a-b? \n",
    "    r = random.choice(list(nx.descendants_at_distance(giant,a,l)))\n",
    "\n",
    "    return L,r"
   ]
  },
  {
   "cell_type": "code",
   "execution_count": 7,
   "id": "feebbfc8",
   "metadata": {},
   "outputs": [],
   "source": [
    "def fringe(giant,r,U):\n",
    "    \n",
    "    f_max = 1000\n",
    "    \n",
    "    # We get the fringe of r.\n",
    "    ecc_r = nx.eccentricity(giant,r)\n",
    "    \n",
    "    # If 2*ecc_r-2 isn't an improvement of U (calculated in the previous iteration) we stop the procedure\n",
    "    if (2*ecc_r-2) >= U:\n",
    "        bfs = 0\n",
    "        pass\n",
    "    else:\n",
    "        F = list(nx.descendants_at_distance(giant,r,ecc_r))\n",
    "\n",
    "        #Calculate the maximum eccentricity of the nodes in the fringe of r.\n",
    "        B = 0\n",
    "\n",
    "        if len(F) < f_max:\n",
    "            bfs = len(F)\n",
    "            for i in F:\n",
    "                ecc_i = nx.eccentricity(giant,i)\n",
    "                if ecc_i > B:\n",
    "                    B = ecc_i\n",
    "\n",
    "            # Calculating the upper bound\n",
    "            if len(F)>1 and B == 2 * ecc_r -1:\n",
    "                U = 2 * ecc_r - 1\n",
    "            elif len(F)>1 and B<2*ecc_r-1:\n",
    "                U = 2*ecc_r -2\n",
    "            else:\n",
    "                U = B\n",
    "\n",
    "        #If |F| > F_max then U = diam(T_r) for which we choose\n",
    "        #the eccentricity of a random node in the fringe of u.\n",
    "        else:\n",
    "            B = nx.eccentricity(giant,random.choice(F))\n",
    "            U = 2*ecc_r\n",
    "\n",
    "    return U,bfs"
   ]
  },
  {
   "cell_type": "code",
   "execution_count": 15,
   "id": "ccd31206-b717-40b7-b224-6bb64faf8dea",
   "metadata": {
    "tags": []
   },
   "outputs": [],
   "source": [
    "#Diameter = 15 (CORRECT)\n",
    "data = open(r\"C:\\Users\\geo_l\\OneDrive\\Υπολογιστής\\Courses\\1st Semester\\SNACS\\project\\data\\facebook_large\\facebook_large\\musae_facebook_edges.csv\",\n",
    "            'r',encoding='utf8').readlines()\n",
    "data = [i.strip('\\n') for i in data]\n",
    "data = data[1:]\\\n",
    "\n",
    "nodes = [i for i in range(22470)]\n",
    "\n",
    "edges = []\n",
    "\n",
    "for i in data:\n",
    "    edges.append((int(i.split(',')[0]),int(i.split(',')[1])))\n",
    "    \n",
    "F = nx.Graph()\n",
    "F.add_nodes_from(nodes)\n",
    "F.add_edges_from(edges)"
   ]
  },
  {
   "cell_type": "code",
   "execution_count": 30,
   "id": "527760d9-6e78-4ff8-8d86-25e6c41c228f",
   "metadata": {
    "tags": []
   },
   "outputs": [
    {
     "name": "stderr",
     "output_type": "stream",
     "text": [
      "100%|██████████████████████████████████████████████████████████████████████████████████| 10/10 [00:08<00:00,  1.23it/s]"
     ]
    },
    {
     "name": "stdout",
     "output_type": "stream",
     "text": [
      "Fringe converged\n",
      "The diameter is:  15\n",
      "Number of BFSes needed: 2 from double sweep, and 20 from fringe\n",
      "The total number of BFSes required for double sweep devided with the number of iterations is: 2.0\n",
      "The total number of BFSes required for fringe devided with the number of iterations is: 2.0\n"
     ]
    },
    {
     "name": "stderr",
     "output_type": "stream",
     "text": [
      "\n"
     ]
    }
   ],
   "source": [
    "diameter_computation(F,10)"
   ]
  },
  {
   "cell_type": "code",
   "execution_count": 5,
   "id": "2edb48d7-900d-456b-bfbe-039dbd0630be",
   "metadata": {
    "tags": []
   },
   "outputs": [],
   "source": [
    "#Diameter = 7 (CORRECT)\n",
    "data = open(r\"C:\\Users\\geo_l\\OneDrive\\Υπολογιστής\\Courses\\1st Semester\\SNACS\\project\\data\\wiki-Vote.txt\\wiki-Vote.txt\",\n",
    "            'r',encoding='utf8').readlines()\n",
    "data = data[4:]\n",
    "data = [i.strip('\\n') for i in data]\n",
    "data = [i.split('\\t') for i in data]\n",
    "\n",
    "nodes = []\n",
    "edges = []\n",
    "\n",
    "for i in data:\n",
    "    edges.append((int(i[0]),int(i[1])))\n",
    "    for j in range(2):\n",
    "        cur_num = int(i[j])\n",
    "        if cur_num not in nodes:\n",
    "            nodes.append(cur_num)\n",
    "\n",
    "W = nx.Graph()\n",
    "W.add_nodes_from(nodes)\n",
    "W.add_edges_from(edges)"
   ]
  },
  {
   "cell_type": "code",
   "execution_count": 14,
   "id": "0c0d3b26-3f91-4ca6-b583-40a13fb05d87",
   "metadata": {
    "tags": []
   },
   "outputs": [
    {
     "name": "stderr",
     "output_type": "stream",
     "text": [
      "100%|██████████████████████████████████████████████████████████████████████████████████| 10/10 [00:49<00:00,  4.96s/it]"
     ]
    },
    {
     "name": "stdout",
     "output_type": "stream",
     "text": [
      "Fringe converged\n",
      "The diameter is:  7\n",
      "Number of BFSes needed: 2 from double sweep, and 89 from fringe\n",
      "The total number of BFSes required for double sweep devided with the number of iterations is: 2.0\n",
      "The total number of BFSes required for fringe devided with the number of iterations is: 8.9\n"
     ]
    },
    {
     "name": "stderr",
     "output_type": "stream",
     "text": [
      "\n"
     ]
    }
   ],
   "source": [
    "diameter_computation(W,10)"
   ]
  },
  {
   "cell_type": "code",
   "execution_count": 20,
   "id": "7ce2ab8b-f1b7-4a3c-9a60-8dde9ae9b1b4",
   "metadata": {
    "tags": []
   },
   "outputs": [],
   "source": [
    "#Diameter = 15 (CORRECT)\n",
    "data = open(r'C:\\Users\\geo_l\\OneDrive/Υπολογιστής/Courses/1st Semester/SNACS/project/data/soc-Epinions1.txt/soc-Epinions1.txt',encoding='utf8').readlines()\n",
    "data =  data[4:]\n",
    "data = [i.strip('\\n') for i in data]\n",
    "data = [i.split('\\t') for i in data]\n",
    "\n",
    "#noded\n",
    "nodes= data\n",
    "nodes = [j for i in nodes for j in i]\n",
    "nodes = list(set(nodes))\n",
    "\n",
    "#edges\n",
    "edges = data\n",
    "for i in range(len(edges)):\n",
    "    data[i] = (int(edges[i][0]),int(edges[i][1]))\n",
    "    \n",
    "E = nx.Graph()\n",
    "E.add_nodes_from(nodes)\n",
    "E.add_edges_from(edges)"
   ]
  },
  {
   "cell_type": "code",
   "execution_count": 21,
   "id": "0e4fbe41-ee6d-4607-9d23-769b5c6fd05b",
   "metadata": {
    "tags": []
   },
   "outputs": [
    {
     "name": "stderr",
     "output_type": "stream",
     "text": [
      "100%|██████████████████████████████████████████████████████████████████████████████████| 10/10 [02:05<00:00, 12.54s/it]"
     ]
    },
    {
     "name": "stdout",
     "output_type": "stream",
     "text": [
      "Fringe converged\n",
      "The diameter is:  15\n",
      "Number of BFSes needed: 2 from double sweep, and 18 from fringe\n",
      "The total number of BFSes required for double sweep devided with the number of iterations is: 2.0\n",
      "The total number of BFSes required for fringe devided with the number of iterations is: 1.8\n"
     ]
    },
    {
     "name": "stderr",
     "output_type": "stream",
     "text": [
      "\n"
     ]
    }
   ],
   "source": [
    "diameter_computation(E,10)"
   ]
  },
  {
   "cell_type": "code",
   "execution_count": 32,
   "id": "5f868f57-905d-4fb1-835a-f49f712df2a1",
   "metadata": {
    "tags": []
   },
   "outputs": [],
   "source": [
    "#Diameter = 9 (CORRECT)\n",
    "data = open(r\"C:\\Users\\geo_l\\OneDrive\\Υπολογιστής\\Courses\\1st Semester\\SNACS\\project\\data\\soc-sign-bitcoinotc.csv\\soc-sign-bitcoinotc.csv\").readlines()\n",
    "data = [i.split(',') for i in data]\n",
    "edges = []\n",
    "for i in range(len(data)):\n",
    "    edges.append((int(data[i][0]),int(data[i][1])))\n",
    "nodes = []\n",
    "for i in edges:\n",
    "    for j in i:\n",
    "        nodes.append(j)\n",
    "nodes = list(set(nodes))\n",
    "B = nx.Graph()\n",
    "B.add_nodes_from(nodes)\n",
    "B.add_edges_from(edges)"
   ]
  },
  {
   "cell_type": "code",
   "execution_count": 50,
   "id": "53157627-6379-43db-8cd0-4d32fca08a81",
   "metadata": {
    "tags": []
   },
   "outputs": [
    {
     "name": "stderr",
     "output_type": "stream",
     "text": [
      "100%|██████████████████████████████████████████████████████████████████████████████████| 10/10 [00:10<00:00,  1.01s/it]"
     ]
    },
    {
     "name": "stdout",
     "output_type": "stream",
     "text": [
      "Fringe converged\n",
      "The diameter is:  9\n",
      "Number of BFSes needed: 20.0 from double sweep, and 35 from fringe\n",
      "The total number of BFSes required for double sweep devided with the number of iterations is: 2.0\n",
      "The total number of BFSes required for fringe devided with the number of iterations is: 4.1\n"
     ]
    },
    {
     "name": "stderr",
     "output_type": "stream",
     "text": [
      "\n"
     ]
    }
   ],
   "source": [
    "diameter_computation(B,10)"
   ]
  },
  {
   "cell_type": "code",
   "execution_count": 51,
   "id": "9f8f8bbb-4987-47fb-9ef2-567a3bf3fa09",
   "metadata": {
    "tags": []
   },
   "outputs": [],
   "source": [
    "# Diameter = 12 (CORRECT)\n",
    "data = open(r\"C:\\Users\\geo_l\\OneDrive\\Υπολογιστής\\Courses\\1st Semester\\SNACS\\project\\data\\soc-Slashdot0811.txt\\soc-Slashdot0811.txt\").readlines()\n",
    "data = data[4:]\n",
    "data = [i.strip(\"\\n\") for i in data]\n",
    "data = [i.split(\"\\t\") for i in data]\n",
    "nodes= data\n",
    "nodes = [j for i in nodes for j in i]\n",
    "nodes = list(set(nodes))\n",
    "edges = data\n",
    "for i in range(len(edges)):\n",
    "    data[i] = (int(edges[i][0]),int(edges[i][1])) \n",
    "S = nx.Graph()\n",
    "S.add_nodes_from(nodes)\n",
    "S.add_edges_from(edges)"
   ]
  },
  {
   "cell_type": "code",
   "execution_count": 52,
   "id": "4dbaa787-6b35-41ba-9b15-017981615d6b",
   "metadata": {
    "tags": []
   },
   "outputs": [
    {
     "name": "stderr",
     "output_type": "stream",
     "text": [
      "100%|██████████████████████████████████████████████████████████████████████████████████| 10/10 [02:05<00:00, 12.59s/it]"
     ]
    },
    {
     "name": "stdout",
     "output_type": "stream",
     "text": [
      "Fringe converged\n",
      "The diameter is:  12\n",
      "Number of BFSes needed: 20.0 from double sweep, and 3 from fringe\n",
      "The total number of BFSes required for double sweep devided with the number of iterations is: 2.0\n",
      "The total number of BFSes required for fringe devided with the number of iterations is: 0.3\n"
     ]
    },
    {
     "name": "stderr",
     "output_type": "stream",
     "text": [
      "\n"
     ]
    }
   ],
   "source": [
    "diameter_computation(S,10)"
   ]
  },
  {
   "cell_type": "code",
   "execution_count": 53,
   "id": "4214c4af-eccb-4e1e-ba8e-3fc57e0c4629",
   "metadata": {
    "tags": []
   },
   "outputs": [],
   "source": [
    "edges = open(r\"C:\\Users\\geo_l\\OneDrive\\Υπολογιστής\\Courses\\1st Semester\\SNACS\\project\\data\\git_web_ml\\git_web_ml\\musae_git_edges.csv\").readlines()\n",
    "edges = edges[1:]\n",
    "edges = [i.strip(\"\\n\") for i in edges]\n",
    "edges = [i.split(',') for i in edges]\n",
    "for i in range(len(edges)):\n",
    "    edges[i] = (int(edges[i][0]),int(edges[i][1]))\n",
    "    \n",
    "nodes =open(r\"C:\\Users\\geo_l\\OneDrive\\Υπολογιστής\\Courses\\1st Semester\\SNACS\\project\\data\\git_web_ml\\git_web_ml\\musae_git_target.csv\").readlines()\n",
    "nodes = nodes[1:]\n",
    "nodes = [i.split(',') for i in nodes]\n",
    "nodes = [int(i[0]) for i in nodes]\n",
    "\n",
    "Git = nx.Graph()\n",
    "Git.add_nodes_from(nodes)\n",
    "Git.add_edges_from(edges)"
   ]
  },
  {
   "cell_type": "code",
   "execution_count": 94,
   "id": "dd9c3612-24aa-43fc-802d-4af4bbd53822",
   "metadata": {
    "tags": []
   },
   "outputs": [
    {
     "name": "stderr",
     "output_type": "stream",
     "text": [
      "100%|██████████████████████████████████████████████████████████████████████████████████| 10/10 [00:14<00:00,  1.44s/it]"
     ]
    },
    {
     "name": "stdout",
     "output_type": "stream",
     "text": [
      "Fringe converged\n",
      "The diameter is:  11\n",
      "Number of BFSes needed: 20.0 from double sweep, and 9 from fringe\n",
      "The total number of BFSes required for double sweep devided with the number of iterations is: 2.0\n",
      "The total number of BFSes required for fringe devided with the number of iterations is: 1.5\n"
     ]
    },
    {
     "name": "stderr",
     "output_type": "stream",
     "text": [
      "\n"
     ]
    }
   ],
   "source": [
    "diameter_computation(Git,10)"
   ]
  },
  {
   "cell_type": "code",
   "execution_count": 4,
   "id": "47a850b8-d217-42ef-90f2-c756957fda4a",
   "metadata": {
    "tags": []
   },
   "outputs": [],
   "source": [
    "import gzip\n",
    "import shutil\n",
    "# with gzip.open(r\"C:\\Users\\geo_l\\OneDrive\\Υπολογιστής\\Courses\\1st Semester\\SNACS\\project\\data\\facebook_combined.txt.gz\", 'rb') as f_in:\n",
    "#     with open(r\"C:\\Users\\geo_l\\OneDrive\\Υπολογιστής\\Courses\\1st Semester\\SNACS\\project\\data\\facebook_combined.txt\", 'wb') as f_out:\n",
    "#         shutil.copyfileobj(f_in, f_out)\n",
    "data = open(r\"C:\\Users\\geo_l\\OneDrive\\Υπολογιστής\\Courses\\1st Semester\\SNACS\\project\\data\\facebook_combined.txt\").readlines()\n",
    "data = [i.strip(\"\\n\") for i in data]\n",
    "data = [i.split(\" \") for i in data]\n",
    "nodes = data; edges = data\n",
    "nodes = [j for i in nodes for j in i]\n",
    "nodes = list(set(nodes))\n",
    "for i in edges:\n",
    "    i = (int(i[0]),int(i[1]))\n",
    "FC = nx.Graph()\n",
    "FC.add_nodes_from(nodes)\n",
    "FC.add_edges_from(edges)"
   ]
  },
  {
   "cell_type": "code",
   "execution_count": 8,
   "id": "a3f183e4-36e5-48ef-a48d-37c40a871a69",
   "metadata": {
    "tags": []
   },
   "outputs": [
    {
     "name": "stderr",
     "output_type": "stream",
     "text": [
      "100%|██████████████████████████████████████████████████████████████████████████████████| 10/10 [00:08<00:00,  1.23it/s]"
     ]
    },
    {
     "name": "stdout",
     "output_type": "stream",
     "text": [
      "Fringe converged\n",
      "The diameter is:  8\n",
      "Number of BFSes needed: 20.0 from double sweep, and 197.0 from fringe\n",
      "The total number of BFSes required for double sweep devided with the number of iterations is: 2.0\n",
      "The total number of BFSes required for fringe devided with the number of iterations is: 19.7\n"
     ]
    },
    {
     "name": "stderr",
     "output_type": "stream",
     "text": [
      "\n"
     ]
    }
   ],
   "source": [
    "diameter_computation(FC,10)"
   ]
  },
  {
   "cell_type": "code",
   "execution_count": 7,
   "id": "14447fbe-4020-45ad-bbb1-126dcff5c5c2",
   "metadata": {
    "tags": []
   },
   "outputs": [],
   "source": [
    "with gzip.open(r\"C:\\Users\\geo_l\\OneDrive\\Υπολογιστής\\Courses\\1st Semester\\SNACS\\project\\data\\roadNet-CA.txt.gz\", 'rb') as f_i:\n",
    "    with open(r\"C:\\Users\\geo_l\\OneDrive\\Υπολογιστής\\Courses\\1st Semester\\SNACS\\project\\data\\roadNet-CA.txt\", 'wb') as f_o:\n",
    "        shutil.copyfileobj(f_i, f_o)\n",
    "data = open(r\"C:\\Users\\geo_l\\OneDrive\\Υπολογιστής\\Courses\\1st Semester\\SNACS\\project\\data\\roadNet-CA.txt\").readlines()\n",
    "data = data[4:]\n",
    "data = [i.strip(\"\\n\") for i in data]\n",
    "data = [i.split(\"\\t\") for i in data]\n",
    "nodes = data; edges = data\n",
    "nodes = [j for i in nodes for j in i]\n",
    "nodes = list(set(nodes))\n",
    "for i in edges:\n",
    "    i = (int(i[0]),int(i[1]))\n",
    "CA = nx.Graph()\n",
    "CA.add_nodes_from(nodes)\n",
    "CA.add_edges_from(edges)"
   ]
  },
  {
   "cell_type": "code",
   "execution_count": 12,
   "id": "2af29f20-b4f2-444e-8a18-864f431a6e81",
   "metadata": {
    "tags": []
   },
   "outputs": [
    {
     "name": "stderr",
     "output_type": "stream",
     "text": [
      "100%|███████████████████████████████████████████████████████████████████████████████████| 3/3 [17:30<00:00, 350.10s/it]\n"
     ]
    },
    {
     "name": "stdout",
     "output_type": "stream",
     "text": [
      "Fringe did not converged\n",
      "The diameter is between L =  855 and U =  853\n",
      "The approximated diameter is:  855\n",
      "Number of BFSes needed: 6.0 from double sweep, and 9 from fringe\n",
      "The total number of BFSes required for double sweep devided with the number of iterations is: 2.0\n",
      "The total number of BFSes required for fringe devided with the number of iterations is: 3.0\n"
     ]
    }
   ],
   "source": [
    "diameter_computation(CA,3)"
   ]
  },
  {
   "cell_type": "code",
   "execution_count": 2,
   "id": "04c48ebb-fd80-4860-a682-d615fdc67eb1",
   "metadata": {
    "tags": []
   },
   "outputs": [],
   "source": [
    "data = open(r\"C:\\Users\\geo_l\\OneDrive\\Υπολογιστής\\Courses\\1st Semester\\SNACS\\project\\data\\com-youtube.ungraph.txt\").readlines()\n",
    "data = [i.strip(\"\\n\") for i in data]\n",
    "data = [i.split(\"\\t\") for i in data]\n",
    "nodes = data; edges = data\n",
    "nodes = [j for i in nodes for j in i]\n",
    "nodes = list(set(nodes))\n",
    "for i in edges:\n",
    "    i = (int(i[0]),int(i[1]))\n",
    "YT = nx.Graph()\n",
    "YT.add_nodes_from(nodes)\n",
    "YT.add_edges_from(edges)"
   ]
  },
  {
   "cell_type": "code",
   "execution_count": 45,
   "id": "905b6b8a-1455-421f-bd98-3f3b29c6fc96",
   "metadata": {},
   "outputs": [
    {
     "name": "stderr",
     "output_type": "stream",
     "text": [
      "100%|██████████████████████████████████████████████████████████████████████████████████| 10/10 [05:29<00:00, 32.90s/it]"
     ]
    },
    {
     "name": "stdout",
     "output_type": "stream",
     "text": [
      "Fringe converged\n",
      "The diameter is:  24\n",
      "Number of BFSes needed: 20.0 from double sweep, and 2.0 from fringe\n",
      "The total number of BFSes required for double sweep devided with the number of iterations is: 2.0\n",
      "The total number of BFSes required for fringe devided with the number of iterations is: 0.2\n"
     ]
    },
    {
     "name": "stderr",
     "output_type": "stream",
     "text": [
      "\n"
     ]
    }
   ],
   "source": [
    "diameter_computation(YT,10)"
   ]
  },
  {
   "cell_type": "code",
   "execution_count": 34,
   "id": "a166c0c0-ffda-4ca3-af07-dbdb6740c005",
   "metadata": {
    "tags": []
   },
   "outputs": [],
   "source": [
    "with gzip.open(r\"C:\\Users\\geo_l\\OneDrive\\Υπολογιστής\\Courses\\1st Semester\\SNACS\\project\\data\\email-Eu-core.txt.gz\", 'rb') as f_in:\n",
    "    with open(r\"C:\\Users\\geo_l\\OneDrive\\Υπολογιστής\\Courses\\1st Semester\\SNACS\\project\\data\\email-Eu-core.txt\", 'wb') as f_out:\n",
    "        shutil.copyfileobj(f_in, f_out)\n",
    "data = open(r\"C:\\Users\\geo_l\\OneDrive\\Υπολογιστής\\Courses\\1st Semester\\SNACS\\project\\data\\email-Eu-core.txt\").readlines()"
   ]
  },
  {
   "cell_type": "code",
   "execution_count": 37,
   "id": "0d5620c5-8f00-48c4-807b-e1f3c4e86d7b",
   "metadata": {
    "tags": []
   },
   "outputs": [],
   "source": [
    "data = [i.strip(\"\\n\") for i in data]\n",
    "data = [i.split(\" \") for i in data]\n",
    "nodes = data; edges = data\n",
    "nodes = [j for i in nodes for j in i]\n",
    "nodes = list(set(nodes))\n",
    "for i in edges:\n",
    "    i = (int(i[0]),int(i[1]))\n",
    "EU = nx.Graph()\n",
    "EU.add_nodes_from(nodes)\n",
    "EU.add_edges_from(edges)"
   ]
  },
  {
   "cell_type": "code",
   "execution_count": 44,
   "id": "988a9ed1-531a-4929-b0de-21e32fb865b6",
   "metadata": {
    "tags": []
   },
   "outputs": [
    {
     "name": "stderr",
     "output_type": "stream",
     "text": [
      "100%|██████████████████████████████████████████████████████████████████████████████████| 10/10 [00:08<00:00,  1.13it/s]"
     ]
    },
    {
     "name": "stdout",
     "output_type": "stream",
     "text": [
      "Fringe converged\n",
      "The diameter is:  7\n",
      "Number of BFSes needed: 20.0 from double sweep, and 120.0 from fringe\n",
      "The total number of BFSes required for double sweep devided with the number of iterations is: 2.0\n",
      "The total number of BFSes required for fringe devided with the number of iterations is: 12.0\n"
     ]
    },
    {
     "name": "stderr",
     "output_type": "stream",
     "text": [
      "\n"
     ]
    }
   ],
   "source": [
    "diameter_computation(EU,10)"
   ]
  }
 ],
 "metadata": {
  "kernelspec": {
   "display_name": "Python 3 (ipykernel)",
   "language": "python",
   "name": "python3"
  },
  "language_info": {
   "codemirror_mode": {
    "name": "ipython",
    "version": 3
   },
   "file_extension": ".py",
   "mimetype": "text/x-python",
   "name": "python",
   "nbconvert_exporter": "python",
   "pygments_lexer": "ipython3",
   "version": "3.9.7"
  }
 },
 "nbformat": 4,
 "nbformat_minor": 5
}
